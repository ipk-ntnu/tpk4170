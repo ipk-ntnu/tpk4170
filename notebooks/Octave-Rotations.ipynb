{
 "cells": [
  {
   "cell_type": "code",
   "execution_count": 11,
   "metadata": {
    "collapsed": false
   },
   "outputs": [
    {
     "name": "stdout",
     "output_type": "stream",
     "text": [
      "S =\n",
      "\n",
      "   0  -3   2\n",
      "   3   0  -1\n",
      "  -2   1   0\n",
      "\n"
     ]
    }
   ],
   "source": [
    "function S = skew(v)\n",
    "    S = [0, -v(3), v(2); v(3), 0, -v(1); -v(2), v(1), 0];\n",
    "end\n",
    "S = skew([1,2,3])"
   ]
  },
  {
   "cell_type": "code",
   "execution_count": 12,
   "metadata": {
    "collapsed": false
   },
   "outputs": [
    {
     "name": "stdout",
     "output_type": "stream",
     "text": [
      "v =\n",
      "\n",
      "   1   2   3\n",
      "\n"
     ]
    }
   ],
   "source": [
    "function v = vex(S)\n",
    "    v = [S(3,2), S(1,3), S(2,1)];\n",
    "end\n",
    "v = vex(S)"
   ]
  },
  {
   "cell_type": "code",
   "execution_count": 13,
   "metadata": {
    "collapsed": true
   },
   "outputs": [],
   "source": [
    "function R = exp(w)\n",
    "    th = norm(w);\n",
    "    K = skew(w / th);\n",
    "    R = eye(3) + sin(th) * K + (1 - cos(th)) * K * K;\n",
    "end"
   ]
  },
  {
   "cell_type": "code",
   "execution_count": 14,
   "metadata": {
    "collapsed": false
   },
   "outputs": [],
   "source": [
    "function R = rotz(th)\n",
    "    ct = cos(th);\n",
    "    st = sin(th);\n",
    "    R = [ct, -st, 0; st, ct, 0; 0, 0, 1];\n",
    "end"
   ]
  },
  {
   "cell_type": "code",
   "execution_count": 15,
   "metadata": {
    "collapsed": true
   },
   "outputs": [],
   "source": [
    "function R = roty(th)\n",
    "    ct = cos(th);\n",
    "    st = sin(th);\n",
    "    R = [ct, 0, st; 0, 1, 0; -st, 0, ct];\n",
    "end"
   ]
  },
  {
   "cell_type": "code",
   "execution_count": 16,
   "metadata": {
    "collapsed": true
   },
   "outputs": [],
   "source": [
    "function R = rotx(th)\n",
    "    ct = cos(th);\n",
    "    st = sin(th);\n",
    "    R = [1, 0, 0; 0, ct, -st; 0, st, ct];\n",
    "end"
   ]
  },
  {
   "cell_type": "code",
   "execution_count": 17,
   "metadata": {
    "collapsed": false
   },
   "outputs": [
    {
     "name": "stdout",
     "output_type": "stream",
     "text": [
      "R =\n",
      "\n",
      "   1.00000   0.00000   0.00000\n",
      "   0.00000   0.86603  -0.50000\n",
      "   0.00000   0.50000   0.86603\n",
      "\n"
     ]
    }
   ],
   "source": [
    "R = rotx(pi/6)"
   ]
  },
  {
   "cell_type": "code",
   "execution_count": 18,
   "metadata": {
    "collapsed": false
   },
   "outputs": [
    {
     "name": "stdout",
     "output_type": "stream",
     "text": [
      "R =\n",
      "\n",
      "   1.00000   0.00000   0.00000\n",
      "   0.00000   0.86603  -0.50000\n",
      "   0.00000   0.50000   0.86603\n",
      "\n"
     ]
    }
   ],
   "source": [
    "R = exp([pi/6,0,0])"
   ]
  },
  {
   "cell_type": "code",
   "execution_count": 19,
   "metadata": {
    "collapsed": false
   },
   "outputs": [],
   "source": [
    "function w = log(R)\n",
    "    th = acos((trace(R) - 1) / 2);\n",
    "    w = ([R(3,2) - R(2,3), R(1,3) - R(3,1), R(2,1) - R(1,2)] / (2 * sin(th))) * th;\n",
    "end"
   ]
  },
  {
   "cell_type": "code",
   "execution_count": 21,
   "metadata": {
    "collapsed": false
   },
   "outputs": [
    {
     "name": "stdout",
     "output_type": "stream",
     "text": [
      "w =\n",
      "\n",
      "   0.00000   0.52360   0.00000\n",
      "\n",
      "ans =\n",
      "\n",
      "   0.00000   0.52360   0.00000\n",
      "\n"
     ]
    }
   ],
   "source": [
    "w = [0, pi/6,0]\n",
    "log(exp(w))"
   ]
  },
  {
   "cell_type": "code",
   "execution_count": null,
   "metadata": {
    "collapsed": true
   },
   "outputs": [],
   "source": []
  },
  {
   "cell_type": "code",
   "execution_count": null,
   "metadata": {
    "collapsed": true
   },
   "outputs": [],
   "source": []
  }
 ],
 "metadata": {
  "kernelspec": {
   "display_name": "Octave",
   "language": "octave",
   "name": "octave"
  },
  "language_info": {
   "file_extension": ".m",
   "help_links": [
    {
     "text": "MetaKernel Magics",
     "url": "https://github.com/calysto/metakernel/blob/master/metakernel/magics/README.md"
    }
   ],
   "mimetype": "text/x-octave",
   "name": "octave",
   "version": "0.16.0"
  }
 },
 "nbformat": 4,
 "nbformat_minor": 1
}
